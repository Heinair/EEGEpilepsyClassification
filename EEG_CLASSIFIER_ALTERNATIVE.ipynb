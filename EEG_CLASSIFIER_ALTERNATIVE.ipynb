{
  "cells": [
    {
      "cell_type": "code",
      "execution_count": null,
      "metadata": {
        "colab": {
          "base_uri": "https://localhost:8080/"
        },
        "id": "LQyV5yTnrBDf",
        "outputId": "590078a9-7779-4efa-baf2-b701b87eb25c"
      },
      "outputs": [
        {
          "name": "stdout",
          "output_type": "stream",
          "text": [
            "--2022-04-23 09:34:06--  https://dl.dropboxusercontent.com/s/unjllviexkxcfa6/phase_1.zip?dl=0\n",
            "Resolving dl.dropboxusercontent.com (dl.dropboxusercontent.com)... 162.125.81.15, 2620:100:6030:15::a27d:500f\n",
            "Connecting to dl.dropboxusercontent.com (dl.dropboxusercontent.com)|162.125.81.15|:443... connected.\n",
            "HTTP request sent, awaiting response... 200 OK\n",
            "Length: 52290331 (50M) [application/zip]\n",
            "Saving to: ‘phase_1.zip?dl=0’\n",
            "\n",
            "phase_1.zip?dl=0    100%[===================>]  49.87M  13.1MB/s    in 4.1s    \n",
            "\n",
            "2022-04-23 09:34:11 (12.3 MB/s) - ‘phase_1.zip?dl=0’ saved [52290331/52290331]\n",
            "\n",
            "Archive:  ph.zip\n",
            "   creating: phase_1/\n",
            "  inflating: phase_1/exp1-train-2000neg.bin  \n",
            "  inflating: phase_1/exp1-train-400pos.bin  \n",
            "  inflating: phase_1/exp1-train-neg.png  \n",
            "  inflating: phase_1/exp1-train-pos.png  \n",
            "  inflating: phase_1/exp12-test-1200.bin  \n",
            "--2022-04-23 09:34:12--  https://dl.dropboxusercontent.com/s/u79uyn8hwmjm6ch/phase_2.zip?dl=0\n",
            "Resolving dl.dropboxusercontent.com (dl.dropboxusercontent.com)... 162.125.81.15, 2620:100:6030:15::a27d:500f\n",
            "Connecting to dl.dropboxusercontent.com (dl.dropboxusercontent.com)|162.125.81.15|:443... connected.\n",
            "HTTP request sent, awaiting response... 200 OK\n",
            "Length: 52023423 (50M) [application/zip]\n",
            "Saving to: ‘phase_2.zip?dl=0’\n",
            "\n",
            "phase_2.zip?dl=0    100%[===================>]  49.61M  10.0MB/s    in 5.1s    \n",
            "\n",
            "2022-04-23 09:34:18 (9.73 MB/s) - ‘phase_2.zip?dl=0’ saved [52023423/52023423]\n",
            "\n",
            "Archive:  ph2.zip\n",
            "  inflating: phase_2/exp2-train-pos.png  \n",
            "  inflating: phase_2/exp2-train-neg.png  \n",
            "  inflating: phase_2/exp2-train-2000neg.bin  \n",
            "  inflating: phase_2/exp2-train-400pos.bin  \n",
            "  inflating: phase_2/exp12-test-1200.bin  \n"
          ]
        }
      ],
      "source": [
        "!wget https://dl.dropboxusercontent.com/s/unjllviexkxcfa6/phase_1.zip?dl=0\n",
        "!mv phase_1.zip?dl=0 ph.zip\n",
        "!unzip ph.zip\n",
        "!wget https://dl.dropboxusercontent.com/s/u79uyn8hwmjm6ch/phase_2.zip?dl=0\n",
        "!mv phase_2.zip?dl=0 ph2.zip\n",
        "!unzip ph2.zip"
      ]
    },
    {
      "cell_type": "code",
      "execution_count": 13,
      "metadata": {
        "id": "yT3tJ6xaq2KS"
      },
      "outputs": [],
      "source": [
        "import numpy as np\n",
        "from sklearn import *\n",
        "from sklearn.neighbors import KNeighborsClassifier\n",
        "from sklearn.svm import LinearSVC\n",
        "from sklearn.model_selection import *\n",
        "from sklearn.pipeline import *\n",
        "from sklearn.preprocessing import *\n",
        "import matplotlib.pyplot as plt\n",
        "import time as time\n",
        "import pandas as pd\n",
        "from sklearn.svm import *\n",
        "from sklearn.ensemble import RandomForestClassifier\n",
        "from sklearn.datasets import make_hastie_10_2\n",
        "from sklearn.ensemble import *\n",
        "from sklearn.feature_selection import SelectKBest, chi2,f_classif\n",
        "from sklearn.neural_network import MLPClassifier\n",
        "from sklearn.naive_bayes import GaussianNB\n",
        "from sklearn.linear_model import SGDClassifier\n",
        "from sklearn.metrics import *\n",
        "from scipy.stats import *\n",
        "import seaborn as sns\n",
        "#IDEAS AS FUCKOOOOO https://ieeexplore.ieee.org/document/9693921\n",
        "#BAND POWER https://raphaelvallat.com/bandpower.html"
      ]
    },
    {
      "cell_type": "code",
      "execution_count": 14,
      "metadata": {
        "id": "N3YBq6plq2KV"
      },
      "outputs": [],
      "source": [
        "#Recuperation des données \n",
        "donnees_positive_train = np.fromfile('./phase_1/exp1-train-400pos.bin', dtype=np.float32).reshape([400, 5, 768])\n",
        "donnees_negative_train = np.fromfile('./phase_1/exp1-train-2000neg.bin', dtype=np.float32).reshape([2000, 5, 768])\n",
        "\n",
        "donnees_positive_train2 = np.fromfile('./phase_2/exp2-train-400pos.bin', dtype=np.float32).reshape([400, 5, 768])\n",
        "donnees_negative_train2 = np.fromfile('./phase_2/exp2-train-2000neg.bin', dtype=np.float32).reshape([2000, 5, 768])\n",
        "\n",
        "\n",
        "donnees_test = np.fromfile('./phase_1/exp12-test-1200.bin', dtype=np.float32).reshape([1200, 5, 768])\n",
        "donnees_test2 = np.fromfile('./phase_2/exp12-test-1200.bin', dtype=np.float32).reshape([1200, 5, 768])\n",
        "\n",
        "\n",
        "train_ds = np.vstack([donnees_positive_train, donnees_positive_train2, donnees_negative_train, donnees_negative_train2])\n",
        "train_labels = np.zeros(4800)\n",
        "train_labels[:800] = 1\n",
        "train_labels = train_labels.ravel()"
      ]
    },
    {
      "cell_type": "code",
      "execution_count": 15,
      "metadata": {
        "id": "421XJGiEq2KX",
        "outputId": "ac386f4c-c3d1-4aef-8eeb-3ec3d501d2ef"
      },
      "outputs": [],
      "source": [
        "def evaluation(model, X, Y):\n",
        "    X_train, X_test, y_train, y_test = train_test_split(X, Y, test_size=0.25)\n",
        "    model.fit(X_train, y_train)\n",
        "    ypred = model.predict(X_test)\n",
        "    \n",
        "    print(model.score(X_test,y_test))\n",
        "    print(confusion_matrix(y_test, ypred))\n",
        "    print(classification_report(y_test, ypred))\n",
        "    \n",
        "    N, train_score, val_score = learning_curve(model, X_train, y_train,\n",
        "                                              cv=4, scoring='f1',\n",
        "                                               train_sizes=np.linspace(0.1, 1, 10))\n",
        "    \n",
        "    \n",
        "    plt.figure(figsize=(12, 8))\n",
        "    plt.plot(N, train_score.mean(axis=1), label='train score')\n",
        "    plt.plot(N, val_score.mean(axis=1), label='validation score')\n",
        "    plt.legend()\n",
        "    return model\n",
        "    "
      ]
    },
    {
      "cell_type": "code",
      "execution_count": 16,
      "metadata": {
        "id": "AEpW6zDg5HAH"
      },
      "outputs": [],
      "source": [
        "# -*- coding: utf-8 -*-\n",
        "\"\"\"EEG Emotion Prediction\n",
        "Automatically generated by Colaboratory.\n",
        "Original file is located at\n",
        "    https://colab.research.google.com/drive/1s0vmfb2GwGTmv_fnt1w-aiGyYoZ8nEbQ\n",
        "\"\"\"\n",
        "\n",
        "# This program aims to accurately predict the emotional states of a subject while watching various movie scenes given their EEG readings using a recurrent neural network\n",
        "import numpy as np\n",
        "import pandas as pd\n",
        "\n",
        "import matplotlib.pyplot as plt\n",
        "\n",
        "from sklearn.model_selection import train_test_split\n",
        "\n",
        "import tensorflow as tf\n",
        "\n",
        "from sklearn.metrics import confusion_matrix, classification_report"
      ]
    },
    {
      "cell_type": "code",
      "execution_count": 17,
      "metadata": {
        "id": "xUgyr4gi5nGm"
      },
      "outputs": [],
      "source": [
        "def neurone_modele(X,Z,Y=train_labels,epo=36):\n",
        "\n",
        "    X_train, X_test, y_train, y_test = train_test_split(X, Y, train_size=0.99, random_state=123)\n",
        "    \n",
        "\n",
        "    inputs = tf.keras.Input(shape=(X_train.shape[1],))\n",
        "\n",
        "    expand_dims = tf.expand_dims(inputs, axis=2)\n",
        "    gru = tf.keras.layers.GRU(256, return_sequences=True)(expand_dims)\n",
        "    flatten = tf.keras.layers.Flatten()(gru)\n",
        "    outputs = tf.keras.layers.Dense(3, activation='softmax')(flatten)\n",
        "\n",
        "    model = tf.keras.Model(inputs=inputs, outputs=outputs)\n",
        "    print(model.summary())\n",
        "\n",
        "    model.compile(\n",
        "        optimizer='adam',\n",
        "        loss='sparse_categorical_crossentropy',\n",
        "        metrics=['accuracy']\n",
        "    )\n",
        "\n",
        "    history = model.fit(\n",
        "        X_train,\n",
        "        y_train,\n",
        "        validation_split=0.2,\n",
        "        batch_size=32,\n",
        "        epochs=epo,\n",
        "        callbacks=[\n",
        "            tf.keras.callbacks.EarlyStopping(\n",
        "                monitor='val_loss',\n",
        "                patience=5,\n",
        "                restore_best_weights=True\n",
        "            )\n",
        "        ]\n",
        "    )\n",
        "\n",
        "    model_acc = model.evaluate(X_test, y_test, verbose=0)[1]\n",
        "    print(\"Test Accuracy: {:.3f}%\".format(model_acc * 100))\n",
        "\n",
        "    y_pred = np.array(list(map(lambda x: np.argmax(x), model.predict(X_test))))\n",
        "\n",
        "    cm = confusion_matrix(y_test, y_pred)\n",
        "    clr = classification_report(y_test, y_pred)\n",
        "\n",
        "    plt.figure(figsize=(8, 8))\n",
        "    sns.heatmap(cm, annot=True, vmin=0, fmt='g', cbar=False, cmap='Blues')\n",
        "    plt.xlabel(\"Predicted\")\n",
        "    plt.ylabel(\"Actual\")\n",
        "    plt.title(\"Confusion Matrix\")\n",
        "    plt.show()\n",
        "\n",
        "    print(\"Classification Report:\\n----------------------\\n\", clr)\n",
        "\n",
        "    predictionFinale = np.array(list(map(lambda x: np.argmax(x), model.predict(Z))))\n",
        "    prediction = np.array(list(map(lambda x: np.argmax(x), model.predict(X))))\n",
        "\n",
        "\n",
        "    return (prediction, predictionFinale)"
      ]
    },
    {
      "cell_type": "code",
      "execution_count": 18,
      "metadata": {
        "id": "zdcr4uiNGqNY"
      },
      "outputs": [
        {
          "name": "stdout",
          "output_type": "stream",
          "text": [
            "Model: \"model_3\"\n",
            "_________________________________________________________________\n",
            " Layer (type)                Output Shape              Param #   \n",
            "=================================================================\n",
            " input_4 (InputLayer)        [(None, 768)]             0         \n",
            "                                                                 \n",
            " tf.expand_dims_3 (TFOpLambd  (None, 768, 1)           0         \n",
            " a)                                                              \n",
            "                                                                 \n",
            " gru_3 (GRU)                 (None, 768, 256)          198912    \n",
            "                                                                 \n",
            " flatten_3 (Flatten)         (None, 196608)            0         \n",
            "                                                                 \n",
            " dense_3 (Dense)             (None, 3)                 589827    \n",
            "                                                                 \n",
            "=================================================================\n",
            "Total params: 788,739\n",
            "Trainable params: 788,739\n",
            "Non-trainable params: 0\n",
            "_________________________________________________________________\n",
            "None\n",
            "Epoch 1/36\n",
            "119/119 [==============================] - 413s 3s/step - loss: 3.4025 - accuracy: 0.8721 - val_loss: 0.9342 - val_accuracy: 0.9422\n",
            "Epoch 2/36\n",
            "119/119 [==============================] - 202s 2s/step - loss: 1.0916 - accuracy: 0.9405 - val_loss: 1.5478 - val_accuracy: 0.8833\n",
            "Epoch 3/36\n",
            "119/119 [==============================] - 198s 2s/step - loss: 0.6402 - accuracy: 0.9521 - val_loss: 0.5887 - val_accuracy: 0.9359\n",
            "Epoch 4/36\n",
            "119/119 [==============================] - 213s 2s/step - loss: 0.4053 - accuracy: 0.9558 - val_loss: 0.4819 - val_accuracy: 0.9422\n",
            "Epoch 5/36\n",
            "119/119 [==============================] - 208s 2s/step - loss: 0.3585 - accuracy: 0.9566 - val_loss: 0.4154 - val_accuracy: 0.9485\n",
            "Epoch 6/36\n",
            "119/119 [==============================] - 205s 2s/step - loss: 0.4175 - accuracy: 0.9566 - val_loss: 0.6295 - val_accuracy: 0.9327\n",
            "Epoch 7/36\n",
            "119/119 [==============================] - 207s 2s/step - loss: 0.4364 - accuracy: 0.9558 - val_loss: 1.1276 - val_accuracy: 0.9138\n",
            "Epoch 8/36\n",
            "119/119 [==============================] - 200s 2s/step - loss: 0.4928 - accuracy: 0.9603 - val_loss: 0.8760 - val_accuracy: 0.9558\n",
            "Epoch 9/36\n",
            "119/119 [==============================] - 204s 2s/step - loss: 0.5659 - accuracy: 0.9547 - val_loss: 0.9861 - val_accuracy: 0.9327\n",
            "Epoch 10/36\n",
            "119/119 [==============================] - 205s 2s/step - loss: 0.3790 - accuracy: 0.9676 - val_loss: 0.6239 - val_accuracy: 0.9474\n",
            "Test Accuracy: 89.583%\n"
          ]
        },
        {
          "data": {
            "image/png": "[encoded data removed]",
            "text/plain": [
              "<Figure size 576x576 with 1 Axes>"
            ]
          },
          "metadata": {
            "needs_background": "light"
          },
          "output_type": "display_data"
        },
        {
          "name": "stdout",
          "output_type": "stream",
          "text": [
            "Classification Report:\n",
            "----------------------\n",
            "               precision    recall  f1-score   support\n",
            "\n",
            "         0.0       0.97      0.89      0.93        35\n",
            "         1.0       0.75      0.92      0.83        13\n",
            "\n",
            "    accuracy                           0.90        48\n",
            "   macro avg       0.86      0.90      0.88        48\n",
            "weighted avg       0.91      0.90      0.90        48\n",
            "\n"
          ]
        }
      ],
      "source": [
        "preds1, predsf1 = neurone_modele(train_ds[:,0], donnees_test[:,0])"
      ]
    },
    {
      "cell_type": "code",
      "execution_count": 111,
      "metadata": {},
      "outputs": [
        {
          "name": "stdout",
          "output_type": "stream",
          "text": [
            "Model: \"model_20\"\n",
            "_________________________________________________________________\n",
            " Layer (type)                Output Shape              Param #   \n",
            "=================================================================\n",
            " input_21 (InputLayer)       [(None, 768)]             0         \n",
            "                                                                 \n",
            " tf.expand_dims_20 (TFOpLamb  (None, 768, 1)           0         \n",
            " da)                                                             \n",
            "                                                                 \n",
            " gru_20 (GRU)                (None, 768, 256)          198912    \n",
            "                                                                 \n",
            " flatten_20 (Flatten)        (None, 196608)            0         \n",
            "                                                                 \n",
            " dense_20 (Dense)            (None, 3)                 589827    \n",
            "                                                                 \n",
            "=================================================================\n",
            "Total params: 788,739\n",
            "Trainable params: 788,739\n",
            "Non-trainable params: 0\n",
            "_________________________________________________________________\n",
            "None\n",
            "Epoch 1/36\n",
            "119/119 [==============================] - 295s 2s/step - loss: 3.2465 - accuracy: 0.8874 - val_loss: 1.1743 - val_accuracy: 0.9527\n",
            "Epoch 2/36\n",
            "119/119 [==============================] - 292s 2s/step - loss: 1.4705 - accuracy: 0.9369 - val_loss: 1.6882 - val_accuracy: 0.9443\n",
            "Epoch 3/36\n",
            "119/119 [==============================] - 291s 2s/step - loss: 1.4277 - accuracy: 0.9390 - val_loss: 1.3854 - val_accuracy: 0.9495\n",
            "Epoch 4/36\n",
            "119/119 [==============================] - 292s 2s/step - loss: 1.0881 - accuracy: 0.9482 - val_loss: 1.0956 - val_accuracy: 0.9485\n",
            "Epoch 5/36\n",
            "119/119 [==============================] - 295s 2s/step - loss: 0.8900 - accuracy: 0.9558 - val_loss: 1.7342 - val_accuracy: 0.9474\n",
            "Epoch 6/36\n",
            "119/119 [==============================] - 295s 2s/step - loss: 1.4503 - accuracy: 0.9442 - val_loss: 1.8521 - val_accuracy: 0.9274\n",
            "Epoch 7/36\n",
            "119/119 [==============================] - 291s 2s/step - loss: 1.0981 - accuracy: 0.9553 - val_loss: 2.6299 - val_accuracy: 0.9106\n",
            "Epoch 8/36\n",
            "119/119 [==============================] - 291s 2s/step - loss: 1.1643 - accuracy: 0.9592 - val_loss: 1.6755 - val_accuracy: 0.9474\n",
            "Epoch 9/36\n",
            "119/119 [==============================] - 291s 2s/step - loss: 0.9123 - accuracy: 0.9640 - val_loss: 2.2269 - val_accuracy: 0.9569\n",
            "Test Accuracy: 93.750%\n"
          ]
        },
        {
          "data": {
            "image/png": "[encoded data removed]",
            "text/plain": [
              "<Figure size 576x576 with 1 Axes>"
            ]
          },
          "metadata": {
            "needs_background": "light"
          },
          "output_type": "display_data"
        },
        {
          "name": "stdout",
          "output_type": "stream",
          "text": [
            "Classification Report:\n",
            "----------------------\n",
            "               precision    recall  f1-score   support\n",
            "\n",
            "         0.0       0.97      0.94      0.96        35\n",
            "         1.0       0.86      0.92      0.89        13\n",
            "\n",
            "    accuracy                           0.94        48\n",
            "   macro avg       0.91      0.93      0.92        48\n",
            "weighted avg       0.94      0.94      0.94        48\n",
            "\n"
          ]
        }
      ],
      "source": [
        "preds2, predsf2 = neurone_modele(train_ds[:,1], donnees_test[:,1])"
      ]
    },
    {
      "cell_type": "code",
      "execution_count": 20,
      "metadata": {},
      "outputs": [
        {
          "name": "stdout",
          "output_type": "stream",
          "text": [
            "Model: \"model_5\"\n",
            "_________________________________________________________________\n",
            " Layer (type)                Output Shape              Param #   \n",
            "=================================================================\n",
            " input_6 (InputLayer)        [(None, 768)]             0         \n",
            "                                                                 \n",
            " tf.expand_dims_5 (TFOpLambd  (None, 768, 1)           0         \n",
            " a)                                                              \n",
            "                                                                 \n",
            " gru_5 (GRU)                 (None, 768, 256)          198912    \n",
            "                                                                 \n",
            " flatten_5 (Flatten)         (None, 196608)            0         \n",
            "                                                                 \n",
            " dense_5 (Dense)             (None, 3)                 589827    \n",
            "                                                                 \n",
            "=================================================================\n",
            "Total params: 788,739\n",
            "Trainable params: 788,739\n",
            "Non-trainable params: 0\n",
            "_________________________________________________________________\n",
            "None\n",
            "Epoch 1/36\n",
            "119/119 [==============================] - 220s 2s/step - loss: 3.3179 - accuracy: 0.8327 - val_loss: 1.5210 - val_accuracy: 0.8801\n",
            "Epoch 2/36\n",
            "119/119 [==============================] - 215s 2s/step - loss: 1.0233 - accuracy: 0.8948 - val_loss: 0.8698 - val_accuracy: 0.9043\n",
            "Epoch 3/36\n",
            "119/119 [==============================] - 207s 2s/step - loss: 0.5522 - accuracy: 0.9058 - val_loss: 0.4951 - val_accuracy: 0.9211\n",
            "Epoch 4/36\n",
            "119/119 [==============================] - 214s 2s/step - loss: 0.4413 - accuracy: 0.9140 - val_loss: 0.5752 - val_accuracy: 0.8896\n",
            "Epoch 5/36\n",
            "119/119 [==============================] - 213s 2s/step - loss: 0.3385 - accuracy: 0.9242 - val_loss: 0.5901 - val_accuracy: 0.8791\n",
            "Epoch 6/36\n",
            "119/119 [==============================] - 227s 2s/step - loss: 0.3646 - accuracy: 0.9245 - val_loss: 0.4502 - val_accuracy: 0.9138\n",
            "Epoch 7/36\n",
            "119/119 [==============================] - 239s 2s/step - loss: 0.3372 - accuracy: 0.9313 - val_loss: 0.7984 - val_accuracy: 0.9012\n",
            "Epoch 8/36\n",
            "119/119 [==============================] - 227s 2s/step - loss: 0.4220 - accuracy: 0.9187 - val_loss: 0.7639 - val_accuracy: 0.8770\n",
            "Epoch 9/36\n",
            "119/119 [==============================] - 218s 2s/step - loss: 0.4546 - accuracy: 0.9279 - val_loss: 0.7925 - val_accuracy: 0.9148\n",
            "Epoch 10/36\n",
            "119/119 [==============================] - 212s 2s/step - loss: 0.5269 - accuracy: 0.9284 - val_loss: 0.9673 - val_accuracy: 0.8980\n",
            "Epoch 11/36\n",
            "119/119 [==============================] - 218s 2s/step - loss: 0.5424 - accuracy: 0.9300 - val_loss: 0.9546 - val_accuracy: 0.8854\n",
            "Test Accuracy: 87.500%\n"
          ]
        },
        {
          "data": {
            "image/png": "[encoded data removed]",
            "text/plain": [
              "<Figure size 576x576 with 1 Axes>"
            ]
          },
          "metadata": {
            "needs_background": "light"
          },
          "output_type": "display_data"
        },
        {
          "name": "stdout",
          "output_type": "stream",
          "text": [
            "Classification Report:\n",
            "----------------------\n",
            "               precision    recall  f1-score   support\n",
            "\n",
            "         0.0       0.91      0.91      0.91        35\n",
            "         1.0       0.77      0.77      0.77        13\n",
            "\n",
            "    accuracy                           0.88        48\n",
            "   macro avg       0.84      0.84      0.84        48\n",
            "weighted avg       0.88      0.88      0.88        48\n",
            "\n"
          ]
        }
      ],
      "source": [
        "preds3, predsf3 = neurone_modele(train_ds[:,2], donnees_test[:,2])"
      ]
    },
    {
      "cell_type": "code",
      "execution_count": 21,
      "metadata": {},
      "outputs": [
        {
          "name": "stdout",
          "output_type": "stream",
          "text": [
            "Model: \"model_6\"\n",
            "_________________________________________________________________\n",
            " Layer (type)                Output Shape              Param #   \n",
            "=================================================================\n",
            " input_7 (InputLayer)        [(None, 768)]             0         \n",
            "                                                                 \n",
            " tf.expand_dims_6 (TFOpLambd  (None, 768, 1)           0         \n",
            " a)                                                              \n",
            "                                                                 \n",
            " gru_6 (GRU)                 (None, 768, 256)          198912    \n",
            "                                                                 \n",
            " flatten_6 (Flatten)         (None, 196608)            0         \n",
            "                                                                 \n",
            " dense_6 (Dense)             (None, 3)                 589827    \n",
            "                                                                 \n",
            "=================================================================\n",
            "Total params: 788,739\n",
            "Trainable params: 788,739\n",
            "Non-trainable params: 0\n",
            "_________________________________________________________________\n",
            "None\n",
            "Epoch 1/36\n",
            "119/119 [==============================] - 252s 2s/step - loss: 2.9348 - accuracy: 0.8101 - val_loss: 0.9210 - val_accuracy: 0.8360\n",
            "Epoch 2/36\n",
            "119/119 [==============================] - 215s 2s/step - loss: 0.6359 - accuracy: 0.8713 - val_loss: 0.4922 - val_accuracy: 0.8644\n",
            "Epoch 3/36\n",
            "119/119 [==============================] - 214s 2s/step - loss: 0.4387 - accuracy: 0.8798 - val_loss: 0.3912 - val_accuracy: 0.8896\n",
            "Epoch 4/36\n",
            "119/119 [==============================] - 204s 2s/step - loss: 0.3448 - accuracy: 0.8840 - val_loss: 0.3846 - val_accuracy: 0.8833\n",
            "Epoch 5/36\n",
            "119/119 [==============================] - 204s 2s/step - loss: 0.3276 - accuracy: 0.8900 - val_loss: 0.4061 - val_accuracy: 0.8538\n",
            "Epoch 6/36\n",
            "119/119 [==============================] - 205s 2s/step - loss: 0.3219 - accuracy: 0.8956 - val_loss: 0.4097 - val_accuracy: 0.8864\n",
            "Epoch 7/36\n",
            "119/119 [==============================] - 210s 2s/step - loss: 0.3178 - accuracy: 0.8940 - val_loss: 0.3881 - val_accuracy: 0.8906\n",
            "Epoch 8/36\n",
            "119/119 [==============================] - 204s 2s/step - loss: 0.3459 - accuracy: 0.8948 - val_loss: 0.5020 - val_accuracy: 0.8875\n",
            "Epoch 9/36\n",
            "119/119 [==============================] - 206s 2s/step - loss: 0.3781 - accuracy: 0.8887 - val_loss: 0.5483 - val_accuracy: 0.8717\n",
            "Test Accuracy: 83.333%\n"
          ]
        },
        {
          "data": {
            "image/png": "[encoded data removed]",
            "text/plain": [
              "<Figure size 576x576 with 1 Axes>"
            ]
          },
          "metadata": {
            "needs_background": "light"
          },
          "output_type": "display_data"
        },
        {
          "name": "stdout",
          "output_type": "stream",
          "text": [
            "Classification Report:\n",
            "----------------------\n",
            "               precision    recall  f1-score   support\n",
            "\n",
            "         0.0       0.85      0.94      0.89        35\n",
            "         1.0       0.78      0.54      0.64        13\n",
            "\n",
            "    accuracy                           0.83        48\n",
            "   macro avg       0.81      0.74      0.76        48\n",
            "weighted avg       0.83      0.83      0.82        48\n",
            "\n"
          ]
        }
      ],
      "source": [
        "preds4, predsf4 = neurone_modele(train_ds[:,3], donnees_test[:,3])"
      ]
    },
    {
      "cell_type": "code",
      "execution_count": 22,
      "metadata": {},
      "outputs": [
        {
          "name": "stdout",
          "output_type": "stream",
          "text": [
            "Model: \"model_7\"\n",
            "_________________________________________________________________\n",
            " Layer (type)                Output Shape              Param #   \n",
            "=================================================================\n",
            " input_8 (InputLayer)        [(None, 768)]             0         \n",
            "                                                                 \n",
            " tf.expand_dims_7 (TFOpLambd  (None, 768, 1)           0         \n",
            " a)                                                              \n",
            "                                                                 \n",
            " gru_7 (GRU)                 (None, 768, 256)          198912    \n",
            "                                                                 \n",
            " flatten_7 (Flatten)         (None, 196608)            0         \n",
            "                                                                 \n",
            " dense_7 (Dense)             (None, 3)                 589827    \n",
            "                                                                 \n",
            "=================================================================\n",
            "Total params: 788,739\n",
            "Trainable params: 788,739\n",
            "Non-trainable params: 0\n",
            "_________________________________________________________________\n",
            "None\n",
            "Epoch 1/36\n",
            "119/119 [==============================] - 221s 2s/step - loss: 3.2850 - accuracy: 0.7459 - val_loss: 1.1381 - val_accuracy: 0.6951\n",
            "Epoch 2/36\n",
            "119/119 [==============================] - 210s 2s/step - loss: 0.6500 - accuracy: 0.8137 - val_loss: 0.4908 - val_accuracy: 0.8307\n",
            "Epoch 3/36\n",
            "119/119 [==============================] - 215s 2s/step - loss: 0.4667 - accuracy: 0.8298 - val_loss: 0.4216 - val_accuracy: 0.8307\n",
            "Epoch 4/36\n",
            "119/119 [==============================] - 224s 2s/step - loss: 0.4528 - accuracy: 0.8319 - val_loss: 0.4153 - val_accuracy: 0.8391\n",
            "Epoch 5/36\n",
            "119/119 [==============================] - 222s 2s/step - loss: 0.4621 - accuracy: 0.8261 - val_loss: 0.4586 - val_accuracy: 0.8465\n",
            "Epoch 6/36\n",
            "119/119 [==============================] - 221s 2s/step - loss: 0.4448 - accuracy: 0.8308 - val_loss: 0.6117 - val_accuracy: 0.7823\n",
            "Epoch 7/36\n",
            "119/119 [==============================] - 222s 2s/step - loss: 0.5024 - accuracy: 0.8222 - val_loss: 0.5106 - val_accuracy: 0.8212\n",
            "Epoch 8/36\n",
            "119/119 [==============================] - 220s 2s/step - loss: 0.5027 - accuracy: 0.8279 - val_loss: 0.4981 - val_accuracy: 0.8118\n",
            "Epoch 9/36\n",
            "119/119 [==============================] - 216s 2s/step - loss: 0.5427 - accuracy: 0.8248 - val_loss: 0.6265 - val_accuracy: 0.7950\n",
            "Test Accuracy: 83.333%\n"
          ]
        },
        {
          "data": {
            "image/png": "[encoded data removed]",
            "text/plain": [
              "<Figure size 576x576 with 1 Axes>"
            ]
          },
          "metadata": {
            "needs_background": "light"
          },
          "output_type": "display_data"
        },
        {
          "name": "stdout",
          "output_type": "stream",
          "text": [
            "Classification Report:\n",
            "----------------------\n",
            "               precision    recall  f1-score   support\n",
            "\n",
            "         0.0       0.81      1.00      0.90        35\n",
            "         1.0       1.00      0.38      0.56        13\n",
            "\n",
            "    accuracy                           0.83        48\n",
            "   macro avg       0.91      0.69      0.73        48\n",
            "weighted avg       0.86      0.83      0.80        48\n",
            "\n"
          ]
        }
      ],
      "source": [
        "preds5, predsf5 = neurone_modele(train_ds[:,4], donnees_test[:,4])"
      ]
    },
    {
      "cell_type": "code",
      "execution_count": 110,
      "metadata": {},
      "outputs": [
        {
          "name": "stdout",
          "output_type": "stream",
          "text": [
            "Model: \"model_19\"\n",
            "_________________________________________________________________\n",
            " Layer (type)                Output Shape              Param #   \n",
            "=================================================================\n",
            " input_20 (InputLayer)       [(None, 768)]             0         \n",
            "                                                                 \n",
            " tf.expand_dims_19 (TFOpLamb  (None, 768, 1)           0         \n",
            " da)                                                             \n",
            "                                                                 \n",
            " gru_19 (GRU)                (None, 768, 256)          198912    \n",
            "                                                                 \n",
            " flatten_19 (Flatten)        (None, 196608)            0         \n",
            "                                                                 \n",
            " dense_19 (Dense)            (None, 3)                 589827    \n",
            "                                                                 \n",
            "=================================================================\n",
            "Total params: 788,739\n",
            "Trainable params: 788,739\n",
            "Non-trainable params: 0\n",
            "_________________________________________________________________\n",
            "None\n",
            "Epoch 1/36\n",
            "119/119 [==============================] - 296s 2s/step - loss: 3.2726 - accuracy: 0.8850 - val_loss: 0.6308 - val_accuracy: 0.9495\n",
            "Epoch 2/36\n",
            "119/119 [==============================] - 304s 3s/step - loss: 0.9295 - accuracy: 0.9234 - val_loss: 0.6313 - val_accuracy: 0.9022\n",
            "Epoch 3/36\n",
            "119/119 [==============================] - 301s 3s/step - loss: 0.4271 - accuracy: 0.9432 - val_loss: 0.2651 - val_accuracy: 0.9611\n",
            "Epoch 4/36\n",
            "119/119 [==============================] - 281s 2s/step - loss: 0.3108 - accuracy: 0.9492 - val_loss: 0.1177 - val_accuracy: 0.9706\n",
            "Epoch 5/36\n",
            "119/119 [==============================] - 285s 2s/step - loss: 0.2056 - accuracy: 0.9624 - val_loss: 0.2112 - val_accuracy: 0.9642\n",
            "Epoch 6/36\n",
            "119/119 [==============================] - 281s 2s/step - loss: 0.1840 - accuracy: 0.9595 - val_loss: 0.1541 - val_accuracy: 0.9642\n",
            "Epoch 7/36\n",
            "119/119 [==============================] - 287s 2s/step - loss: 0.1328 - accuracy: 0.9729 - val_loss: 0.1301 - val_accuracy: 0.9642\n",
            "Epoch 8/36\n",
            "119/119 [==============================] - 282s 2s/step - loss: 0.1195 - accuracy: 0.9700 - val_loss: 0.1700 - val_accuracy: 0.9621\n",
            "Epoch 9/36\n",
            "119/119 [==============================] - 283s 2s/step - loss: 0.1383 - accuracy: 0.9700 - val_loss: 0.3356 - val_accuracy: 0.9632\n",
            "Test Accuracy: 93.750%\n"
          ]
        },
        {
          "data": {
            "image/png": "[encoded data removed]",
            "text/plain": [
              "<Figure size 576x576 with 1 Axes>"
            ]
          },
          "metadata": {
            "needs_background": "light"
          },
          "output_type": "display_data"
        },
        {
          "name": "stdout",
          "output_type": "stream",
          "text": [
            "Classification Report:\n",
            "----------------------\n",
            "               precision    recall  f1-score   support\n",
            "\n",
            "         0.0       0.97      0.94      0.96        35\n",
            "         1.0       0.86      0.92      0.89        13\n",
            "\n",
            "    accuracy                           0.94        48\n",
            "   macro avg       0.91      0.93      0.92        48\n",
            "weighted avg       0.94      0.94      0.94        48\n",
            "\n"
          ]
        }
      ],
      "source": [
        "preds6, predsf6 = neurone_modele(np.std(train_ds, axis=1), np.std(donnees_test, axis=1))"
      ]
    },
    {
      "cell_type": "code",
      "execution_count": 108,
      "metadata": {},
      "outputs": [
        {
          "name": "stdout",
          "output_type": "stream",
          "text": [
            "Model: \"model_18\"\n",
            "_________________________________________________________________\n",
            " Layer (type)                Output Shape              Param #   \n",
            "=================================================================\n",
            " input_19 (InputLayer)       [(None, 768)]             0         \n",
            "                                                                 \n",
            " tf.expand_dims_18 (TFOpLamb  (None, 768, 1)           0         \n",
            " da)                                                             \n",
            "                                                                 \n",
            " gru_18 (GRU)                (None, 768, 256)          198912    \n",
            "                                                                 \n",
            " flatten_18 (Flatten)        (None, 196608)            0         \n",
            "                                                                 \n",
            " dense_18 (Dense)            (None, 3)                 589827    \n",
            "                                                                 \n",
            "=================================================================\n",
            "Total params: 788,739\n",
            "Trainable params: 788,739\n",
            "Non-trainable params: 0\n",
            "_________________________________________________________________\n",
            "None\n",
            "Epoch 1/36\n",
            "119/119 [==============================] - 305s 3s/step - loss: 2.7534 - accuracy: 0.8898 - val_loss: 1.1318 - val_accuracy: 0.9453\n",
            "Epoch 2/36\n",
            "119/119 [==============================] - 280s 2s/step - loss: 1.2204 - accuracy: 0.9342 - val_loss: 0.7617 - val_accuracy: 0.9422\n",
            "Epoch 3/36\n",
            "119/119 [==============================] - 295s 2s/step - loss: 0.8174 - accuracy: 0.9405 - val_loss: 0.5400 - val_accuracy: 0.9506\n",
            "Epoch 4/36\n",
            "119/119 [==============================] - 303s 3s/step - loss: 0.5707 - accuracy: 0.9448 - val_loss: 0.9490 - val_accuracy: 0.9516\n",
            "Epoch 5/36\n",
            "119/119 [==============================] - 299s 3s/step - loss: 0.6218 - accuracy: 0.9437 - val_loss: 0.7678 - val_accuracy: 0.9443\n",
            "Epoch 6/36\n",
            "119/119 [==============================] - 286s 2s/step - loss: 0.4153 - accuracy: 0.9550 - val_loss: 0.5523 - val_accuracy: 0.9516\n",
            "Epoch 7/36\n",
            "119/119 [==============================] - 297s 2s/step - loss: 0.2969 - accuracy: 0.9674 - val_loss: 0.7935 - val_accuracy: 0.9359\n",
            "Epoch 8/36\n",
            "119/119 [==============================] - 289s 2s/step - loss: 0.3156 - accuracy: 0.9611 - val_loss: 0.5202 - val_accuracy: 0.9495\n",
            "Epoch 9/36\n",
            "119/119 [==============================] - 304s 3s/step - loss: 0.3233 - accuracy: 0.9671 - val_loss: 0.6797 - val_accuracy: 0.9464\n",
            "Epoch 10/36\n",
            "119/119 [==============================] - 311s 3s/step - loss: 0.2830 - accuracy: 0.9637 - val_loss: 0.5920 - val_accuracy: 0.9453\n",
            "Epoch 11/36\n",
            "119/119 [==============================] - 279s 2s/step - loss: 0.3839 - accuracy: 0.9642 - val_loss: 0.9488 - val_accuracy: 0.9569\n",
            "Epoch 12/36\n",
            "119/119 [==============================] - 271s 2s/step - loss: 0.3541 - accuracy: 0.9676 - val_loss: 0.7637 - val_accuracy: 0.9653\n",
            "Epoch 13/36\n",
            "119/119 [==============================] - 295s 2s/step - loss: 0.4020 - accuracy: 0.9674 - val_loss: 0.7428 - val_accuracy: 0.9590\n",
            "Test Accuracy: 91.667%\n"
          ]
        },
        {
          "data": {
            "image/png": "[encoded data removed]",
            "text/plain": [
              "<Figure size 576x576 with 1 Axes>"
            ]
          },
          "metadata": {
            "needs_background": "light"
          },
          "output_type": "display_data"
        },
        {
          "name": "stdout",
          "output_type": "stream",
          "text": [
            "Classification Report:\n",
            "----------------------\n",
            "               precision    recall  f1-score   support\n",
            "\n",
            "         0.0       0.97      0.91      0.94        35\n",
            "         1.0       0.80      0.92      0.86        13\n",
            "\n",
            "    accuracy                           0.92        48\n",
            "   macro avg       0.88      0.92      0.90        48\n",
            "weighted avg       0.92      0.92      0.92        48\n",
            "\n"
          ]
        }
      ],
      "source": [
        "preds7, predsf7 = neurone_modele(np.max(train_ds[:,:1], axis=1), np.max(donnees_test[:,:1], axis=1))"
      ]
    },
    {
      "cell_type": "code",
      "execution_count": 112,
      "metadata": {},
      "outputs": [],
      "source": [
        "predrnn = np.stack((preds1, preds2,preds3,preds4,preds5,preds6,preds7),axis=1)\n",
        "predfrnn = np.stack((predsf1, predsf2,predsf3,predsf4,predsf5,predsf6,predsf7),axis=1)"
      ]
    },
    {
      "cell_type": "code",
      "execution_count": 109,
      "metadata": {},
      "outputs": [
        {
          "data": {
            "text/plain": [
              "(4800,)"
            ]
          },
          "execution_count": 109,
          "metadata": {},
          "output_type": "execute_result"
        }
      ],
      "source": [
        "preds6.shape"
      ]
    },
    {
      "cell_type": "code",
      "execution_count": 113,
      "metadata": {
        "id": "Td8PAK4WrfTM"
      },
      "outputs": [],
      "source": [
        "std_ds =  np.std(train_ds, axis=1).reshape(4800,1,768)\n",
        "max_ch1_ds = np.max(train_ds[:,:2],axis=2).reshape(4800,1,2)\n",
        "min_ch1_ds = np.min(train_ds[:,:2],axis=2).reshape(4800,1,2)\n",
        "\n",
        "new_ds = np.concatenate((train_ds,std_ds), axis=1)\n",
        "\n",
        "std_test =  np.std(donnees_test, axis=1).reshape(1200,1,768)\n",
        "new_test = np.concatenate((donnees_test, std_test),axis=1)\n"
      ]
    },
    {
      "cell_type": "code",
      "execution_count": null,
      "metadata": {
        "colab": {
          "base_uri": "https://localhost:8080/",
          "height": 1000
        },
        "id": "Ms4_kW1sF9t0",
        "outputId": "8535df5d-c980-40f2-d828-26511bf9ba10"
      },
      "outputs": [
        {
          "name": "stdout",
          "output_type": "stream",
          "text": [
            "Model: \"model_8\"\n",
            "_________________________________________________________________\n",
            " Layer (type)                Output Shape              Param #   \n",
            "=================================================================\n",
            " input_9 (InputLayer)        [(None, 768)]             0         \n",
            "                                                                 \n",
            " tf.expand_dims_8 (TFOpLambd  (None, 768, 1)           0         \n",
            " a)                                                              \n",
            "                                                                 \n",
            " gru_8 (GRU)                 (None, 768, 256)          198912    \n",
            "                                                                 \n",
            " flatten_8 (Flatten)         (None, 196608)            0         \n",
            "                                                                 \n",
            " dense_8 (Dense)             (None, 3)                 589827    \n",
            "                                                                 \n",
            "=================================================================\n",
            "Total params: 788,739\n",
            "Trainable params: 788,739\n",
            "Non-trainable params: 0\n",
            "_________________________________________________________________\n",
            "None\n",
            "Epoch 1/12\n",
            "119/119 [==============================] - 279s 2s/step - loss: 3.0028 - accuracy: 0.8753 - val_loss: 2.6797 - val_accuracy: 0.8339\n",
            "Epoch 2/12\n",
            "119/119 [==============================] - 246s 2s/step - loss: 1.4126 - accuracy: 0.9266 - val_loss: 0.7894 - val_accuracy: 0.9621\n",
            "Epoch 3/12\n",
            "119/119 [==============================] - 233s 2s/step - loss: 0.6701 - accuracy: 0.9482 - val_loss: 0.5762 - val_accuracy: 0.9579\n",
            "Epoch 4/12\n",
            "119/119 [==============================] - 228s 2s/step - loss: 0.3845 - accuracy: 0.9550 - val_loss: 0.5195 - val_accuracy: 0.9485\n",
            "Epoch 5/12\n",
            "119/119 [==============================] - 231s 2s/step - loss: 0.5568 - accuracy: 0.9476 - val_loss: 0.7517 - val_accuracy: 0.9359\n",
            "Epoch 6/12\n",
            "119/119 [==============================] - 232s 2s/step - loss: 0.3694 - accuracy: 0.9605 - val_loss: 0.5950 - val_accuracy: 0.9443\n",
            "Epoch 7/12\n",
            "119/119 [==============================] - 229s 2s/step - loss: 0.3849 - accuracy: 0.9547 - val_loss: 0.4653 - val_accuracy: 0.9506\n",
            "Epoch 8/12\n",
            "119/119 [==============================] - 227s 2s/step - loss: 0.4076 - accuracy: 0.9584 - val_loss: 0.7486 - val_accuracy: 0.9338\n",
            "Epoch 9/12\n",
            "119/119 [==============================] - 226s 2s/step - loss: 0.3909 - accuracy: 0.9603 - val_loss: 0.5953 - val_accuracy: 0.9516\n",
            "Epoch 10/12\n",
            "119/119 [==============================] - 233s 2s/step - loss: 0.3608 - accuracy: 0.9632 - val_loss: 0.6677 - val_accuracy: 0.9485\n",
            "Epoch 11/12\n",
            "119/119 [==============================] - 229s 2s/step - loss: 0.3318 - accuracy: 0.9632 - val_loss: 0.6737 - val_accuracy: 0.9548\n",
            "Epoch 12/12\n",
            "119/119 [==============================] - 228s 2s/step - loss: 0.3565 - accuracy: 0.9637 - val_loss: 0.7071 - val_accuracy: 0.9317\n",
            "Test Accuracy: 95.833%\n"
          ]
        },
        {
          "data": {
            "image/png": "[encoded data removed]",
            "text/plain": [
              "<Figure size 576x576 with 1 Axes>"
            ]
          },
          "metadata": {},
          "output_type": "display_data"
        },
        {
          "name": "stdout",
          "output_type": "stream",
          "text": [
            "Classification Report:\n",
            "----------------------\n",
            "               precision    recall  f1-score   support\n",
            "\n",
            "         0.0       0.97      0.97      0.97        35\n",
            "         1.0       0.92      0.92      0.92        13\n",
            "\n",
            "    accuracy                           0.96        48\n",
            "   macro avg       0.95      0.95      0.95        48\n",
            "weighted avg       0.96      0.96      0.96        48\n",
            "\n",
            "Model: \"model_9\"\n",
            "_________________________________________________________________\n",
            " Layer (type)                Output Shape              Param #   \n",
            "=================================================================\n",
            " input_10 (InputLayer)       [(None, 768)]             0         \n",
            "                                                                 \n",
            " tf.expand_dims_9 (TFOpLambd  (None, 768, 1)           0         \n",
            " a)                                                              \n",
            "                                                                 \n",
            " gru_9 (GRU)                 (None, 768, 256)          198912    \n",
            "                                                                 \n",
            " flatten_9 (Flatten)         (None, 196608)            0         \n",
            "                                                                 \n",
            " dense_9 (Dense)             (None, 3)                 589827    \n",
            "                                                                 \n",
            "=================================================================\n",
            "Total params: 788,739\n",
            "Trainable params: 788,739\n",
            "Non-trainable params: 0\n",
            "_________________________________________________________________\n",
            "None\n",
            "Epoch 1/12\n",
            "119/119 [==============================] - 233s 2s/step - loss: 3.5156 - accuracy: 0.8879 - val_loss: 1.5497 - val_accuracy: 0.9495\n",
            "Epoch 2/12\n",
            "119/119 [==============================] - 232s 2s/step - loss: 1.4842 - accuracy: 0.9350 - val_loss: 1.4729 - val_accuracy: 0.9474\n",
            "Epoch 3/12\n",
            "119/119 [==============================] - 233s 2s/step - loss: 1.2544 - accuracy: 0.9434 - val_loss: 1.1581 - val_accuracy: 0.9443\n",
            "Epoch 4/12\n",
            "119/119 [==============================] - 231s 2s/step - loss: 0.9387 - accuracy: 0.9534 - val_loss: 1.1767 - val_accuracy: 0.9548\n",
            "Epoch 5/12\n",
            "119/119 [==============================] - 240s 2s/step - loss: 1.1855 - accuracy: 0.9508 - val_loss: 1.0926 - val_accuracy: 0.9642\n",
            "Epoch 6/12\n",
            "119/119 [==============================] - 236s 2s/step - loss: 1.1275 - accuracy: 0.9511 - val_loss: 1.4987 - val_accuracy: 0.9401\n",
            "Epoch 7/12\n",
            "119/119 [==============================] - 229s 2s/step - loss: 1.1310 - accuracy: 0.9495 - val_loss: 1.8764 - val_accuracy: 0.9621\n",
            "Epoch 8/12\n",
            "119/119 [==============================] - 230s 2s/step - loss: 1.2381 - accuracy: 0.9603 - val_loss: 1.8807 - val_accuracy: 0.9264\n",
            "Epoch 9/12\n",
            "119/119 [==============================] - 231s 2s/step - loss: 0.8846 - accuracy: 0.9619 - val_loss: 2.4396 - val_accuracy: 0.9653\n",
            "Epoch 10/12\n",
            "119/119 [==============================] - 228s 2s/step - loss: 0.8074 - accuracy: 0.9732 - val_loss: 1.9885 - val_accuracy: 0.9443\n",
            "Test Accuracy: 87.500%\n"
          ]
        },
        {
          "data": {
            "image/png": "[encoded data removed]",
            "text/plain": [
              "<Figure size 576x576 with 1 Axes>"
            ]
          },
          "metadata": {},
          "output_type": "display_data"
        },
        {
          "name": "stdout",
          "output_type": "stream",
          "text": [
            "Classification Report:\n",
            "----------------------\n",
            "               precision    recall  f1-score   support\n",
            "\n",
            "         0.0       0.89      0.94      0.92        35\n",
            "         1.0       0.82      0.69      0.75        13\n",
            "\n",
            "    accuracy                           0.88        48\n",
            "   macro avg       0.86      0.82      0.83        48\n",
            "weighted avg       0.87      0.88      0.87        48\n",
            "\n",
            "Model: \"model_10\"\n",
            "_________________________________________________________________\n",
            " Layer (type)                Output Shape              Param #   \n",
            "=================================================================\n",
            " input_11 (InputLayer)       [(None, 768)]             0         \n",
            "                                                                 \n",
            " tf.expand_dims_10 (TFOpLamb  (None, 768, 1)           0         \n",
            " da)                                                             \n",
            "                                                                 \n",
            " gru_10 (GRU)                (None, 768, 256)          198912    \n",
            "                                                                 \n",
            " flatten_10 (Flatten)        (None, 196608)            0         \n",
            "                                                                 \n",
            " dense_10 (Dense)            (None, 3)                 589827    \n",
            "                                                                 \n",
            "=================================================================\n",
            "Total params: 788,739\n",
            "Trainable params: 788,739\n",
            "Non-trainable params: 0\n",
            "_________________________________________________________________\n",
            "None\n",
            "Epoch 1/12\n",
            "119/119 [==============================] - 233s 2s/step - loss: 2.9917 - accuracy: 0.8369 - val_loss: 1.1942 - val_accuracy: 0.8959\n",
            "Epoch 2/12\n",
            "119/119 [==============================] - 234s 2s/step - loss: 1.0483 - accuracy: 0.8869 - val_loss: 1.2839 - val_accuracy: 0.8349\n",
            "Epoch 3/12\n",
            "119/119 [==============================] - 232s 2s/step - loss: 0.6826 - accuracy: 0.9084 - val_loss: 0.5761 - val_accuracy: 0.9232\n",
            "Epoch 4/12\n",
            "119/119 [==============================] - 227s 2s/step - loss: 0.4144 - accuracy: 0.9248 - val_loss: 0.6159 - val_accuracy: 0.9169\n",
            "Epoch 5/12\n",
            "119/119 [==============================] - 231s 2s/step - loss: 0.3659 - accuracy: 0.9266 - val_loss: 0.4749 - val_accuracy: 0.9232\n",
            "Epoch 6/12\n",
            "119/119 [==============================] - 231s 2s/step - loss: 0.3532 - accuracy: 0.9290 - val_loss: 0.4606 - val_accuracy: 0.9180\n",
            "Epoch 7/12\n",
            "119/119 [==============================] - 227s 2s/step - loss: 0.3799 - accuracy: 0.9245 - val_loss: 0.8109 - val_accuracy: 0.8991\n",
            "Epoch 8/12\n",
            "119/119 [==============================] - 231s 2s/step - loss: 0.4122 - accuracy: 0.9271 - val_loss: 1.0869 - val_accuracy: 0.8623\n",
            "Epoch 9/12\n",
            "119/119 [==============================] - 231s 2s/step - loss: 0.4573 - accuracy: 0.9303 - val_loss: 0.8668 - val_accuracy: 0.9127\n",
            "Epoch 10/12\n",
            "119/119 [==============================] - 240s 2s/step - loss: 0.4881 - accuracy: 0.9242 - val_loss: 0.9193 - val_accuracy: 0.9211\n",
            "Epoch 11/12\n",
            "119/119 [==============================] - 233s 2s/step - loss: 0.3657 - accuracy: 0.9392 - val_loss: 0.6653 - val_accuracy: 0.9274\n",
            "Test Accuracy: 91.667%\n"
          ]
        },
        {
          "data": {
            "image/png": "[encoded data removed]",
            "text/plain": [
              "<Figure size 576x576 with 1 Axes>"
            ]
          },
          "metadata": {
            "needs_background": "light"
          },
          "output_type": "display_data"
        },
        {
          "name": "stdout",
          "output_type": "stream",
          "text": [
            "Classification Report:\n",
            "----------------------\n",
            "               precision    recall  f1-score   support\n",
            "\n",
            "         0.0       0.92      0.97      0.94        35\n",
            "         1.0       0.91      0.77      0.83        13\n",
            "\n",
            "    accuracy                           0.92        48\n",
            "   macro avg       0.91      0.87      0.89        48\n",
            "weighted avg       0.92      0.92      0.91        48\n",
            "\n",
            "Model: \"model_11\"\n",
            "_________________________________________________________________\n",
            " Layer (type)                Output Shape              Param #   \n",
            "=================================================================\n",
            " input_12 (InputLayer)       [(None, 768)]             0         \n",
            "                                                                 \n",
            " tf.expand_dims_11 (TFOpLamb  (None, 768, 1)           0         \n",
            " da)                                                             \n",
            "                                                                 \n",
            " gru_11 (GRU)                (None, 768, 256)          198912    \n",
            "                                                                 \n",
            " flatten_11 (Flatten)        (None, 196608)            0         \n",
            "                                                                 \n",
            " dense_11 (Dense)            (None, 3)                 589827    \n",
            "                                                                 \n",
            "=================================================================\n",
            "Total params: 788,739\n",
            "Trainable params: 788,739\n",
            "Non-trainable params: 0\n",
            "_________________________________________________________________\n",
            "None\n",
            "Epoch 1/12\n",
            "119/119 [==============================] - 232s 2s/step - loss: 3.2897 - accuracy: 0.8045 - val_loss: 1.1504 - val_accuracy: 0.8623\n",
            "Epoch 2/12\n",
            "119/119 [==============================] - 233s 2s/step - loss: 0.8334 - accuracy: 0.8582 - val_loss: 0.8042 - val_accuracy: 0.8812\n",
            "Epoch 3/12\n",
            "119/119 [==============================] - 228s 2s/step - loss: 0.5761 - accuracy: 0.8716 - val_loss: 0.4514 - val_accuracy: 0.8938\n",
            "Epoch 4/12\n",
            "119/119 [==============================] - 229s 2s/step - loss: 0.3519 - accuracy: 0.8858 - val_loss: 0.4226 - val_accuracy: 0.8770\n",
            "Epoch 5/12\n",
            "119/119 [==============================] - 231s 2s/step - loss: 0.3373 - accuracy: 0.8845 - val_loss: 0.3547 - val_accuracy: 0.8864\n",
            "Epoch 6/12\n",
            "119/119 [==============================] - 233s 2s/step - loss: 0.3408 - accuracy: 0.8885 - val_loss: 0.3990 - val_accuracy: 0.8812\n",
            "Epoch 7/12\n",
            "119/119 [==============================] - 231s 2s/step - loss: 0.3263 - accuracy: 0.8916 - val_loss: 0.3967 - val_accuracy: 0.8770\n",
            "Epoch 8/12\n",
            "119/119 [==============================] - 229s 2s/step - loss: 0.3141 - accuracy: 0.8934 - val_loss: 0.4472 - val_accuracy: 0.8948\n",
            "Epoch 9/12\n",
            "119/119 [==============================] - 236s 2s/step - loss: 0.3162 - accuracy: 0.8971 - val_loss: 0.5228 - val_accuracy: 0.8580\n",
            "Epoch 10/12\n",
            "119/119 [==============================] - 233s 2s/step - loss: 0.3308 - accuracy: 0.8966 - val_loss: 0.4686 - val_accuracy: 0.8906\n",
            "Test Accuracy: 87.500%\n"
          ]
        },
        {
          "data": {
            "image/png": "[encoded data removed]",
            "text/plain": [
              "<Figure size 576x576 with 1 Axes>"
            ]
          },
          "metadata": {
            "needs_background": "light"
          },
          "output_type": "display_data"
        },
        {
          "name": "stdout",
          "output_type": "stream",
          "text": [
            "Classification Report:\n",
            "----------------------\n",
            "               precision    recall  f1-score   support\n",
            "\n",
            "         0.0       0.87      0.97      0.92        35\n",
            "         1.0       0.89      0.62      0.73        13\n",
            "\n",
            "    accuracy                           0.88        48\n",
            "   macro avg       0.88      0.79      0.82        48\n",
            "weighted avg       0.88      0.88      0.87        48\n",
            "\n",
            "Model: \"model_12\"\n",
            "_________________________________________________________________\n",
            " Layer (type)                Output Shape              Param #   \n",
            "=================================================================\n",
            " input_13 (InputLayer)       [(None, 768)]             0         \n",
            "                                                                 \n",
            " tf.expand_dims_12 (TFOpLamb  (None, 768, 1)           0         \n",
            " da)                                                             \n",
            "                                                                 \n",
            " gru_12 (GRU)                (None, 768, 256)          198912    \n",
            "                                                                 \n",
            " flatten_12 (Flatten)        (None, 196608)            0         \n",
            "                                                                 \n",
            " dense_12 (Dense)            (None, 3)                 589827    \n",
            "                                                                 \n",
            "=================================================================\n",
            "Total params: 788,739\n",
            "Trainable params: 788,739\n",
            "Non-trainable params: 0\n",
            "_________________________________________________________________\n",
            "None\n",
            "Epoch 1/12\n",
            "119/119 [==============================] - 229s 2s/step - loss: 3.2996 - accuracy: 0.7522 - val_loss: 1.2047 - val_accuracy: 0.7434\n",
            "Epoch 2/12\n",
            "119/119 [==============================] - 227s 2s/step - loss: 0.7560 - accuracy: 0.7908 - val_loss: 0.6349 - val_accuracy: 0.8423\n",
            "Epoch 3/12\n",
            "119/119 [==============================] - 237s 2s/step - loss: 0.4935 - accuracy: 0.8303 - val_loss: 0.4315 - val_accuracy: 0.8507\n",
            "Epoch 4/12\n",
            "119/119 [==============================] - 232s 2s/step - loss: 0.4693 - accuracy: 0.8303 - val_loss: 0.4564 - val_accuracy: 0.8307\n",
            "Epoch 5/12\n",
            "119/119 [==============================] - 230s 2s/step - loss: 0.4477 - accuracy: 0.8364 - val_loss: 0.4512 - val_accuracy: 0.8486\n",
            "Epoch 6/12\n",
            "119/119 [==============================] - 226s 2s/step - loss: 0.4295 - accuracy: 0.8408 - val_loss: 0.7048 - val_accuracy: 0.7508\n",
            "Epoch 7/12\n",
            "119/119 [==============================] - 231s 2s/step - loss: 0.5010 - accuracy: 0.8232 - val_loss: 0.5521 - val_accuracy: 0.8265\n",
            "Epoch 8/12\n",
            "119/119 [==============================] - 230s 2s/step - loss: 0.5338 - accuracy: 0.8177 - val_loss: 0.4968 - val_accuracy: 0.8391\n",
            "Test Accuracy: 83.333%\n"
          ]
        },
        {
          "data": {
            "image/png": "[encoded data removed]",
            "text/plain": [
              "<Figure size 576x576 with 1 Axes>"
            ]
          },
          "metadata": {
            "needs_background": "light"
          },
          "output_type": "display_data"
        },
        {
          "name": "stdout",
          "output_type": "stream",
          "text": [
            "Classification Report:\n",
            "----------------------\n",
            "               precision    recall  f1-score   support\n",
            "\n",
            "         0.0       0.85      0.94      0.89        35\n",
            "         1.0       0.78      0.54      0.64        13\n",
            "\n",
            "    accuracy                           0.83        48\n",
            "   macro avg       0.81      0.74      0.76        48\n",
            "weighted avg       0.83      0.83      0.82        48\n",
            "\n",
            "Model: \"model_13\"\n",
            "_________________________________________________________________\n",
            " Layer (type)                Output Shape              Param #   \n",
            "=================================================================\n",
            " input_14 (InputLayer)       [(None, 768)]             0         \n",
            "                                                                 \n",
            " tf.expand_dims_13 (TFOpLamb  (None, 768, 1)           0         \n",
            " da)                                                             \n",
            "                                                                 \n",
            " gru_13 (GRU)                (None, 768, 256)          198912    \n",
            "                                                                 \n",
            " flatten_13 (Flatten)        (None, 196608)            0         \n",
            "                                                                 \n",
            " dense_13 (Dense)            (None, 3)                 589827    \n",
            "                                                                 \n",
            "=================================================================\n",
            "Total params: 788,739\n",
            "Trainable params: 788,739\n",
            "Non-trainable params: 0\n",
            "_________________________________________________________________\n",
            "None\n",
            "Epoch 1/12\n",
            "119/119 [==============================] - 231s 2s/step - loss: 5.5974 - accuracy: 0.8740 - val_loss: 0.4951 - val_accuracy: 0.9485\n",
            "Epoch 2/12\n",
            "119/119 [==============================] - 229s 2s/step - loss: 0.4542 - accuracy: 0.9358 - val_loss: 0.8321 - val_accuracy: 0.8591\n",
            "Epoch 3/12\n",
            "119/119 [==============================] - 232s 2s/step - loss: 0.8297 - accuracy: 0.9271 - val_loss: 0.2414 - val_accuracy: 0.9632\n",
            "Epoch 4/12\n",
            "119/119 [==============================] - 231s 2s/step - loss: 0.5692 - accuracy: 0.9321 - val_loss: 0.1672 - val_accuracy: 0.9590\n",
            "Epoch 5/12\n",
            "119/119 [==============================] - 228s 2s/step - loss: 0.3007 - accuracy: 0.9495 - val_loss: 0.1397 - val_accuracy: 0.9674\n",
            "Epoch 6/12\n",
            "119/119 [==============================] - 229s 2s/step - loss: 0.1608 - accuracy: 0.9645 - val_loss: 0.4520 - val_accuracy: 0.9464\n",
            "Epoch 7/12\n",
            "119/119 [==============================] - 229s 2s/step - loss: 0.1887 - accuracy: 0.9624 - val_loss: 0.1900 - val_accuracy: 0.9527\n",
            "Epoch 8/12\n",
            "119/119 [==============================] - 232s 2s/step - loss: 0.1982 - accuracy: 0.9587 - val_loss: 0.3360 - val_accuracy: 0.9537\n",
            "Epoch 9/12\n",
            "119/119 [==============================] - 234s 2s/step - loss: 0.1145 - accuracy: 0.9713 - val_loss: 0.2570 - val_accuracy: 0.9579\n",
            "Epoch 10/12\n",
            "119/119 [==============================] - 237s 2s/step - loss: 0.1345 - accuracy: 0.9708 - val_loss: 0.1860 - val_accuracy: 0.9579\n",
            "Test Accuracy: 93.750%\n"
          ]
        },
        {
          "data": {
            "image/png": "[encoded data removed]",
            "text/plain": [
              "<Figure size 576x576 with 1 Axes>"
            ]
          },
          "metadata": {
            "needs_background": "light"
          },
          "output_type": "display_data"
        },
        {
          "name": "stdout",
          "output_type": "stream",
          "text": [
            "Classification Report:\n",
            "----------------------\n",
            "               precision    recall  f1-score   support\n",
            "\n",
            "         0.0       0.97      0.94      0.96        35\n",
            "         1.0       0.86      0.92      0.89        13\n",
            "\n",
            "    accuracy                           0.94        48\n",
            "   macro avg       0.91      0.93      0.92        48\n",
            "weighted avg       0.94      0.94      0.94        48\n",
            "\n",
            "[[1 0 1 1 1 1]\n",
            " [1 1 1 1 0 1]\n",
            " [1 1 1 1 0 1]\n",
            " ...\n",
            " [0 0 0 0 0 0]\n",
            " [0 0 0 0 0 0]\n",
            " [0 0 0 0 0 0]] (4800, 6)\n",
            "Le programme a mis 14841.535435199738 s à s'éxecuter\n"
          ]
        }
      ],
      "source": [
        "#Optimisation des modèles pour les cinq canaux (chaque modèle est indépendant) SMOTE\n",
        "def model_prediction(X, Y, Z):\n",
        "    splitted_models = []\n",
        "    listePrediction = []\n",
        "    listePredictionFinales = []\n",
        "\n",
        "    X_train, X_test, Y_train, Y_test = train_test_split(X, Y, test_size=0.25)\n",
        "\n",
        "    params = {'bootstrap': [True, False],\n",
        " 'max_depth': [10, 20, 30, 40, 50, 60, 70, 80, 90, 100, None],\n",
        " 'max_features': ['auto', 'sqrt'],\n",
        " 'min_samples_leaf': [1, 2, 4],\n",
        " 'min_samples_split': [2, 5, 10],\n",
        " 'n_estimators': [50,100,200]}\n",
        "\n",
        "    model = neurone_modele\n",
        "    grid = GridSearchCV(model, {\"n_estimators\":[50,75,100], \"max_features\":[0.5,0.75,'auto']})\n",
        "    #grid = RandomizedSearchCV(RandomForestClassifier(), param_distributions= params, n_iter = 10, cv = 4, verbose=2, random_state=42, n_jobs = -1)\n",
        "    for i in range(6):\n",
        "        #X_train_smote, y_train_smote= smote.fit_resample(X[:,i], Y)\n",
        "        pred, predF = model(X[:,i],Y, Z[:,i])\n",
        "\n",
        "        listePrediction.append(pred)\n",
        "        listePredictionFinales.append(predF)\n",
        "        \n",
        "\n",
        "    listePrediction = (np.array(listePrediction)).T\n",
        "    print(listePrediction, listePrediction.shape)\n",
        "\n",
        "    return (listePrediction, listePredictionFinales)\n",
        "\n",
        "t1 = time.time()\n",
        "predictions, modeles_canaux = model_prediction(new_ds, train_labels, new_test)\n",
        "t2 = time.time()\n",
        "print(f\"Le programme a mis {t2-t1} s à s'éxecuter\")"
      ]
    },
    {
      "cell_type": "code",
      "execution_count": 149,
      "metadata": {
        "colab": {
          "base_uri": "https://localhost:8080/"
        },
        "id": "JtGRu4nvLRi2",
        "outputId": "8b4cebee-5227-41e9-d96a-69142254327c"
      },
      "outputs": [
        {
          "name": "stdout",
          "output_type": "stream",
          "text": [
            "Performance sur le canal 1 : 1.0\n",
            "infos :  {} 0.9397916666666667\n",
            "[[1008    0]\n",
            " [   0  192]]\n",
            "              precision    recall  f1-score   support\n",
            "\n",
            "         0.0       1.00      1.00      1.00      1008\n",
            "         1.0       1.00      1.00      1.00       192\n",
            "\n",
            "    accuracy                           1.00      1200\n",
            "   macro avg       1.00      1.00      1.00      1200\n",
            "weighted avg       1.00      1.00      1.00      1200\n",
            "\n",
            "[array([0.8625, 1.    , 0.9375, ..., 0.    , 0.025 , 0.    ])] 1\n",
            "Performance sur le canal 2 : 1.0\n",
            "infos :  {} 0.9427083333333333\n",
            "[[1008    0]\n",
            " [   0  192]]\n",
            "              precision    recall  f1-score   support\n",
            "\n",
            "         0.0       1.00      1.00      1.00      1008\n",
            "         1.0       1.00      1.00      1.00       192\n",
            "\n",
            "    accuracy                           1.00      1200\n",
            "   macro avg       1.00      1.00      1.00      1200\n",
            "weighted avg       1.00      1.00      1.00      1200\n",
            "\n",
            "[array([0.8625, 1.    , 0.9375, ..., 0.    , 0.025 , 0.    ]), array([0.775 , 1.    , 0.9125, ..., 0.    , 0.    , 0.    ])] 2\n",
            "Performance sur le canal 3 : 1.0\n",
            "infos :  {} 0.9047916666666668\n",
            "[[1008    0]\n",
            " [   0  192]]\n",
            "              precision    recall  f1-score   support\n",
            "\n",
            "         0.0       1.00      1.00      1.00      1008\n",
            "         1.0       1.00      1.00      1.00       192\n",
            "\n",
            "    accuracy                           1.00      1200\n",
            "   macro avg       1.00      1.00      1.00      1200\n",
            "weighted avg       1.00      1.00      1.00      1200\n",
            "\n",
            "[array([0.8625, 1.    , 0.9375, ..., 0.    , 0.025 , 0.    ]), array([0.775 , 1.    , 0.9125, ..., 0.    , 0.    , 0.    ]), array([0.8   , 0.9   , 0.7125, ..., 0.    , 0.    , 0.    ])] 3\n",
            "Performance sur le canal 4 : 1.0\n",
            "infos :  {} 0.8791666666666667\n",
            "[[1008    0]\n",
            " [   0  192]]\n",
            "              precision    recall  f1-score   support\n",
            "\n",
            "         0.0       1.00      1.00      1.00      1008\n",
            "         1.0       1.00      1.00      1.00       192\n",
            "\n",
            "    accuracy                           1.00      1200\n",
            "   macro avg       1.00      1.00      1.00      1200\n",
            "weighted avg       1.00      1.00      1.00      1200\n",
            "\n",
            "[array([0.8625, 1.    , 0.9375, ..., 0.    , 0.025 , 0.    ]), array([0.775 , 1.    , 0.9125, ..., 0.    , 0.    , 0.    ]), array([0.8   , 0.9   , 0.7125, ..., 0.    , 0.    , 0.    ]), array([0.7625, 0.9125, 0.775 , ..., 0.    , 0.025 , 0.    ])] 4\n",
            "Performance sur le canal 5 : 1.0\n",
            "infos :  {} 0.8395833333333332\n",
            "[[1008    0]\n",
            " [   0  192]]\n",
            "              precision    recall  f1-score   support\n",
            "\n",
            "         0.0       1.00      1.00      1.00      1008\n",
            "         1.0       1.00      1.00      1.00       192\n",
            "\n",
            "    accuracy                           1.00      1200\n",
            "   macro avg       1.00      1.00      1.00      1200\n",
            "weighted avg       1.00      1.00      1.00      1200\n",
            "\n",
            "[array([0.8625, 1.    , 0.9375, ..., 0.    , 0.025 , 0.    ]), array([0.775 , 1.    , 0.9125, ..., 0.    , 0.    , 0.    ]), array([0.8   , 0.9   , 0.7125, ..., 0.    , 0.    , 0.    ]), array([0.7625, 0.9125, 0.775 , ..., 0.    , 0.025 , 0.    ]), array([0.8875, 0.75  , 0.85  , ..., 0.0125, 0.125 , 0.0125])] 5\n",
            "Performance sur le canal 6 : 1.0\n",
            "infos :  {} 0.9535416666666666\n",
            "[[1008    0]\n",
            " [   0  192]]\n",
            "              precision    recall  f1-score   support\n",
            "\n",
            "         0.0       1.00      1.00      1.00      1008\n",
            "         1.0       1.00      1.00      1.00       192\n",
            "\n",
            "    accuracy                           1.00      1200\n",
            "   macro avg       1.00      1.00      1.00      1200\n",
            "weighted avg       1.00      1.00      1.00      1200\n",
            "\n",
            "[array([0.8625, 1.    , 0.9375, ..., 0.    , 0.025 , 0.    ]), array([0.775 , 1.    , 0.9125, ..., 0.    , 0.    , 0.    ]), array([0.8   , 0.9   , 0.7125, ..., 0.    , 0.    , 0.    ]), array([0.7625, 0.9125, 0.775 , ..., 0.    , 0.025 , 0.    ]), array([0.8875, 0.75  , 0.85  , ..., 0.0125, 0.125 , 0.0125]), array([1.    , 1.    , 0.975 , ..., 0.    , 0.    , 0.0125])] 6\n",
            "[[0.8625 0.775  0.8    0.7625 0.8875 1.    ]\n",
            " [1.     1.     0.9    0.9125 0.75   1.    ]\n",
            " [0.9375 0.9125 0.7125 0.775  0.85   0.975 ]\n",
            " ...\n",
            " [0.     0.     0.     0.     0.0125 0.    ]\n",
            " [0.025  0.     0.     0.025  0.125  0.    ]\n",
            " [0.     0.     0.     0.     0.0125 0.0125]] (4800, 6)\n",
            "Le programme a mis 345.07469034194946 s à s'éxecuter\n"
          ]
        }
      ],
      "source": [
        "#Optimisation des modèles pour les cinq canaux (chaque modèle est indépendant) SMOTE\n",
        "def model_predictionz(X, Y):\n",
        "    splitted_models = []\n",
        "    listePrediction = []\n",
        "\n",
        "    X_train, X_test, Y_train, Y_test = train_test_split(X, Y, test_size=0.25)\n",
        "\n",
        "    params = {'bootstrap': [True, False],\n",
        " 'max_depth': [10, 20, 30, 40, 50, 60, 70, 80, 90, 100, None],\n",
        " 'max_features': ['auto', 'sqrt'],\n",
        " 'min_samples_leaf': [1, 2, 4],\n",
        " 'min_samples_split': [2, 5, 10],\n",
        " 'n_estimators': [50,100,200]}\n",
        "\n",
        "    model = RandomForestClassifier(n_estimators=80)\n",
        "    grid = GridSearchCV(model,{})\n",
        "    #grid = RandomizedSearchCV(RandomForestClassifier(), param_distributions= params, n_iter = 10, cv = 4, verbose=2, random_state=42, n_jobs = -1)\n",
        "    for i in range(6):\n",
        "        #X_train_smote, y_train_smote= smote.fit_resample(X[:,i], Y)\n",
        "        grid.fit(X[:,i],Y)\n",
        "        splitted_models.append(grid.best_estimator_)\n",
        "\n",
        "        print(f\"Performance sur le canal {i+1} : {splitted_models[i].score(X_test[:,i], Y_test)}\")\n",
        "        print(\"infos : \",grid.best_params_, grid.best_score_)\n",
        "        ypred = splitted_models[i].predict(X_test[:,i])\n",
        "        print(confusion_matrix(Y_test, ypred))\n",
        "        print(classification_report(Y_test, ypred))\n",
        "\n",
        "        listePrediction.append( splitted_models[i].predict_proba(X[:,i])[:,1] )\n",
        "        print(listePrediction, len(listePrediction))\n",
        "\n",
        "\n",
        "    listePrediction = (np.array(listePrediction)).T\n",
        "    print(listePrediction, listePrediction.shape)\n",
        "\n",
        "    return (listePrediction, splitted_models)\n",
        "\n",
        "t1 = time.time()\n",
        "predictions2, modeles_canaux2 = model_predictionz(new_ds, train_labels)\n",
        "t2 = time.time()\n",
        "print(f\"Le programme a mis {t2-t1} s à s'éxecuter\")"
      ]
    },
    {
      "cell_type": "code",
      "execution_count": 139,
      "metadata": {
        "colab": {
          "base_uri": "https://localhost:8080/"
        },
        "id": "eUHKRv6bISlN",
        "outputId": "22d2e8f8-5f54-4cf3-f08f-e60675888248"
      },
      "outputs": [
        {
          "name": "stdout",
          "output_type": "stream",
          "text": [
            "infos :  {'C': 0.25, 'gamma': 0.1, 'kernel': 'rbf'} 0.9852083333333332\n",
            "Performance sur l'assembleur : 1.0\n",
            "[[4 0]\n",
            " [0 1]]\n",
            "              precision    recall  f1-score   support\n",
            "\n",
            "         0.0       1.00      1.00      1.00         4\n",
            "         1.0       1.00      1.00      1.00         1\n",
            "\n",
            "    accuracy                           1.00         5\n",
            "   macro avg       1.00      1.00      1.00         5\n",
            "weighted avg       1.00      1.00      1.00         5\n",
            "\n",
            "infos :  {} 0.9824999999999999\n",
            "Performance sur l'assembleur : 0.8\n",
            "[[3 1]\n",
            " [0 1]]\n",
            "              precision    recall  f1-score   support\n",
            "\n",
            "         0.0       1.00      0.75      0.86         4\n",
            "         1.0       0.50      1.00      0.67         1\n",
            "\n",
            "    accuracy                           0.80         5\n",
            "   macro avg       0.75      0.88      0.76         5\n",
            "weighted avg       0.90      0.80      0.82         5\n",
            "\n",
            "infos :  {} 0.9852083333333332\n",
            "Performance sur l'assembleur : 1.0\n",
            "[[4 0]\n",
            " [0 1]]\n",
            "              precision    recall  f1-score   support\n",
            "\n",
            "         0.0       1.00      1.00      1.00         4\n",
            "         1.0       1.00      1.00      1.00         1\n",
            "\n",
            "    accuracy                           1.00         5\n",
            "   macro avg       1.00      1.00      1.00         5\n",
            "weighted avg       1.00      1.00      1.00         5\n",
            "\n",
            "infos :  {} 0.9831249999999999\n",
            "Performance sur l'assembleur : 1.0\n",
            "[[5]]\n",
            "              precision    recall  f1-score   support\n",
            "\n",
            "         0.0       1.00      1.00      1.00         5\n",
            "\n",
            "    accuracy                           1.00         5\n",
            "   macro avg       1.00      1.00      1.00         5\n",
            "weighted avg       1.00      1.00      1.00         5\n",
            "\n"
          ]
        }
      ],
      "source": [
        "#Modèle d'assemblage des données\n",
        "def merge_channels(X, Y, modele, params):\n",
        "    X_train, X_test, Y_train, Y_test = train_test_split(X, Y, test_size=0.001)\n",
        "    #X_train_smote, y_train_smote= smote.fit_resample(X_train, Y_train)\n",
        "\n",
        "\n",
        "    grid = GridSearchCV(modele, param_grid=params, cv=5)\n",
        "    grid.fit(X,Y)\n",
        "    modele = (grid.best_estimator_)\n",
        "    print(\"infos : \",grid.best_params_, grid.best_score_)\n",
        "    print(f\"Performance sur l'assembleur : {modele.score(X_test, Y_test)}\")\n",
        "    ypred = modele.predict(X_test)\n",
        "    print(confusion_matrix(Y_test, ypred))\n",
        "    print(classification_report(Y_test, ypred))\n",
        "\n",
        "    return modele\n",
        "\n",
        "param_svc={'C':[0.1,0.25, 0.5], 'gamma':[0.01,0.1,0.001,0.0001], 'kernel':['rbf','linear'] }\n",
        "param_knn={'n_neighbors':np.arange(5,50,5)}\n",
        "parameter_space = {\n",
        "    'hidden_layer_sizes': [(10,30,10),(20,)],\n",
        "    'activation': ['tanh', 'relu'],\n",
        "    'solver': ['sgd', 'adam'],\n",
        "    'alpha': [0.0001, 0.05],\n",
        "    'learning_rate': ['constant','adaptive']\n",
        "}\n",
        "\n",
        "\n",
        "listeModeles = [(SVC(),param_svc),\n",
        "                (SVC(), {}),\n",
        "                (MLPClassifier(),{}),\n",
        "                (RandomForestClassifier(),{})           \n",
        "                ]\n",
        "m =[]\n",
        "s=[]\n",
        "for model in listeModeles:\n",
        "    m.append(merge_channels(predrnn, train_labels, model[0],model[1]))\n",
        "#    s.append(merge_channels(predictions2, train_labels, model[0],model[1]))\n",
        "\n",
        "modele_assembleur = m[0]\n"
      ]
    },
    {
      "cell_type": "code",
      "execution_count": 151,
      "metadata": {
        "id": "dkO55H0qRNxF"
      },
      "outputs": [],
      "source": [
        "#Reconstruction de la sortie des cinq modèles en un np.array qu'utilisera le modèle d'assemblage\n",
        "def predict_splitted_score(X, models):\n",
        "    listePrediction = []\n",
        "\n",
        "    for i in range(6):\n",
        "        \n",
        "        listePrediction.append(models[i].predict_proba(X[:,i])[:,1])\n",
        "\n",
        "    listePrediction = np.array(listePrediction).T\n",
        "    return listePrediction"
      ]
    },
    {
      "cell_type": "code",
      "execution_count": 100,
      "metadata": {
        "id": "RoQDoy-1SeP7"
      },
      "outputs": [],
      "source": [
        "def construction_sociale(listePred):\n",
        "  apolito = []\n",
        "  for x in listePred:\n",
        "    if np.sum(x) >= 2.15:\n",
        "      apolito.append(1)\n",
        "    else:\n",
        "      apolito.append(0)\n",
        "\n",
        "  return apolito\n",
        "\n",
        "\n",
        "def assemblage_modele(l1, l2):\n",
        "  sortie=[]\n",
        "  for i in range(len(l1)):\n",
        "    if l1[i]==1 or l2[i]==1:\n",
        "      sortie.append(1)\n",
        "    else:\n",
        "      sortie.append(0)\n",
        "  return sortie\n",
        "\n",
        "def aassemblage_modele(l1, l2):\n",
        "  sortie=[]\n",
        "  for i in range(len(l1)):\n",
        "    if l1[i]==1 and l2[i]==1:\n",
        "      sortie.append(1)\n",
        "    else:\n",
        "      sortie.append(0)\n",
        "  return sortie\n",
        "\n",
        "import math\n",
        "\n",
        "def somo(prediction):\n",
        "  l = []\n",
        "  for elem in prediction:\n",
        "    c=0\n",
        "    for x in elem:\n",
        "      if x==1:\n",
        "        c+=1\n",
        "\n",
        "    if c>=3:\n",
        "      dixo=1\n",
        "    else:\n",
        "      dixo=0\n",
        "    l.append(dixo)\n",
        "\n",
        "  return np.array(l)"
      ]
    },
    {
      "cell_type": "code",
      "execution_count": 154,
      "metadata": {
        "colab": {
          "base_uri": "https://localhost:8080/",
          "height": 1000
        },
        "id": "EZ0bH_3GHaqW",
        "outputId": "5bd90bca-b740-4fef-c466-fa2da27d5c93"
      },
      "outputs": [
        {
          "name": "stdout",
          "output_type": "stream",
          "text": [
            "Model: \"model_24\"\n",
            "_________________________________________________________________\n",
            " Layer (type)                Output Shape              Param #   \n",
            "=================================================================\n",
            " input_25 (InputLayer)       [(None, 13)]              0         \n",
            "                                                                 \n",
            " tf.expand_dims_24 (TFOpLamb  (None, 13, 1)            0         \n",
            " da)                                                             \n",
            "                                                                 \n",
            " gru_24 (GRU)                (None, 13, 256)           198912    \n",
            "                                                                 \n",
            " flatten_24 (Flatten)        (None, 3328)              0         \n",
            "                                                                 \n",
            " dense_24 (Dense)            (None, 3)                 9987      \n",
            "                                                                 \n",
            "=================================================================\n",
            "Total params: 208,899\n",
            "Trainable params: 208,899\n",
            "Non-trainable params: 0\n",
            "_________________________________________________________________\n",
            "None\n",
            "Epoch 1/35\n",
            "119/119 [==============================] - 5s 30ms/step - loss: 0.1027 - accuracy: 0.9834 - val_loss: 0.0327 - val_accuracy: 0.9884\n",
            "Epoch 2/35\n",
            "119/119 [==============================] - 3s 24ms/step - loss: 0.0097 - accuracy: 0.9971 - val_loss: 0.0137 - val_accuracy: 0.9916\n",
            "Epoch 3/35\n",
            "119/119 [==============================] - 3s 24ms/step - loss: 0.0016 - accuracy: 0.9997 - val_loss: 5.1604e-04 - val_accuracy: 1.0000\n",
            "Epoch 4/35\n",
            "119/119 [==============================] - 3s 25ms/step - loss: 0.0021 - accuracy: 0.9995 - val_loss: 5.3406e-04 - val_accuracy: 1.0000\n",
            "Epoch 5/35\n",
            "119/119 [==============================] - 3s 23ms/step - loss: 1.6204e-04 - accuracy: 1.0000 - val_loss: 1.4858e-04 - val_accuracy: 1.0000\n",
            "Epoch 6/35\n",
            "119/119 [==============================] - 3s 23ms/step - loss: 5.6396e-05 - accuracy: 1.0000 - val_loss: 8.6507e-05 - val_accuracy: 1.0000\n",
            "Epoch 7/35\n",
            "119/119 [==============================] - 3s 23ms/step - loss: 3.4052e-05 - accuracy: 1.0000 - val_loss: 3.9744e-05 - val_accuracy: 1.0000\n",
            "Epoch 8/35\n",
            "119/119 [==============================] - 3s 22ms/step - loss: 2.5275e-05 - accuracy: 1.0000 - val_loss: 4.2082e-05 - val_accuracy: 1.0000\n",
            "Epoch 9/35\n",
            "119/119 [==============================] - 3s 23ms/step - loss: 1.7672e-05 - accuracy: 1.0000 - val_loss: 2.0075e-05 - val_accuracy: 1.0000\n",
            "Epoch 10/35\n",
            "119/119 [==============================] - 3s 22ms/step - loss: 1.4172e-05 - accuracy: 1.0000 - val_loss: 1.2326e-05 - val_accuracy: 1.0000\n",
            "Epoch 11/35\n",
            "119/119 [==============================] - 3s 22ms/step - loss: 1.0438e-05 - accuracy: 1.0000 - val_loss: 9.9475e-06 - val_accuracy: 1.0000\n",
            "Epoch 12/35\n",
            "119/119 [==============================] - 3s 22ms/step - loss: 7.5350e-06 - accuracy: 1.0000 - val_loss: 1.0474e-05 - val_accuracy: 1.0000\n",
            "Epoch 13/35\n",
            "119/119 [==============================] - 3s 23ms/step - loss: 7.0878e-06 - accuracy: 1.0000 - val_loss: 6.6989e-06 - val_accuracy: 1.0000\n",
            "Epoch 14/35\n",
            "119/119 [==============================] - 3s 22ms/step - loss: 5.5450e-06 - accuracy: 1.0000 - val_loss: 5.7798e-06 - val_accuracy: 1.0000\n",
            "Epoch 15/35\n",
            "119/119 [==============================] - 3s 22ms/step - loss: 4.5680e-06 - accuracy: 1.0000 - val_loss: 5.2792e-06 - val_accuracy: 1.0000\n",
            "Epoch 16/35\n",
            "119/119 [==============================] - 3s 23ms/step - loss: 4.6013e-06 - accuracy: 1.0000 - val_loss: 3.7111e-06 - val_accuracy: 1.0000\n",
            "Epoch 17/35\n",
            "119/119 [==============================] - 4s 32ms/step - loss: 4.2025e-06 - accuracy: 1.0000 - val_loss: 3.9660e-06 - val_accuracy: 1.0000\n",
            "Epoch 18/35\n",
            "119/119 [==============================] - 4s 30ms/step - loss: 5.6167e-06 - accuracy: 1.0000 - val_loss: 2.6737e-06 - val_accuracy: 1.0000\n",
            "Epoch 19/35\n",
            "119/119 [==============================] - 3s 29ms/step - loss: 3.2740e-06 - accuracy: 1.0000 - val_loss: 2.3704e-06 - val_accuracy: 1.0000\n",
            "Epoch 20/35\n",
            "119/119 [==============================] - 3s 27ms/step - loss: 2.7350e-06 - accuracy: 1.0000 - val_loss: 2.8943e-06 - val_accuracy: 1.0000\n",
            "Epoch 21/35\n",
            "119/119 [==============================] - 3s 24ms/step - loss: 1.9281e-06 - accuracy: 1.0000 - val_loss: 2.0534e-06 - val_accuracy: 1.0000\n",
            "Epoch 22/35\n",
            "119/119 [==============================] - 3s 25ms/step - loss: 1.9616e-06 - accuracy: 1.0000 - val_loss: 2.0166e-06 - val_accuracy: 1.0000\n",
            "Epoch 23/35\n",
            "119/119 [==============================] - 3s 24ms/step - loss: 2.6004e-06 - accuracy: 1.0000 - val_loss: 1.2282e-06 - val_accuracy: 1.0000\n",
            "Epoch 24/35\n",
            "119/119 [==============================] - 3s 23ms/step - loss: 1.7903e-06 - accuracy: 1.0000 - val_loss: 2.2845e-06 - val_accuracy: 1.0000\n",
            "Epoch 25/35\n",
            "119/119 [==============================] - 3s 26ms/step - loss: 1.6300e-06 - accuracy: 1.0000 - val_loss: 1.2425e-06 - val_accuracy: 1.0000\n",
            "Epoch 26/35\n",
            "119/119 [==============================] - 3s 25ms/step - loss: 1.4781e-06 - accuracy: 1.0000 - val_loss: 1.5768e-06 - val_accuracy: 1.0000\n",
            "Epoch 27/35\n",
            "119/119 [==============================] - 3s 24ms/step - loss: 1.5220e-06 - accuracy: 1.0000 - val_loss: 1.1172e-06 - val_accuracy: 1.0000\n",
            "Epoch 28/35\n",
            "119/119 [==============================] - 3s 27ms/step - loss: 1.0660e-06 - accuracy: 1.0000 - val_loss: 8.4651e-07 - val_accuracy: 1.0000\n",
            "Epoch 29/35\n",
            "119/119 [==============================] - 3s 24ms/step - loss: 2.7314e-06 - accuracy: 1.0000 - val_loss: 1.9160e-06 - val_accuracy: 1.0000\n",
            "Epoch 30/35\n",
            "119/119 [==============================] - 3s 24ms/step - loss: 1.6284e-06 - accuracy: 1.0000 - val_loss: 1.4840e-06 - val_accuracy: 1.0000\n",
            "Epoch 31/35\n",
            "119/119 [==============================] - 3s 23ms/step - loss: 8.6335e-07 - accuracy: 1.0000 - val_loss: 1.5712e-06 - val_accuracy: 1.0000\n",
            "Epoch 32/35\n",
            "119/119 [==============================] - 3s 23ms/step - loss: 1.0729e-06 - accuracy: 1.0000 - val_loss: 1.0914e-06 - val_accuracy: 1.0000\n",
            "Epoch 33/35\n",
            "119/119 [==============================] - 3s 23ms/step - loss: 6.3746e-07 - accuracy: 1.0000 - val_loss: 7.4179e-07 - val_accuracy: 1.0000\n",
            "Epoch 34/35\n",
            "119/119 [==============================] - 3s 24ms/step - loss: 7.5515e-07 - accuracy: 1.0000 - val_loss: 9.3308e-07 - val_accuracy: 1.0000\n",
            "Epoch 35/35\n",
            "119/119 [==============================] - 3s 26ms/step - loss: 4.6298e-07 - accuracy: 1.0000 - val_loss: 6.2899e-07 - val_accuracy: 1.0000\n",
            "Test Accuracy: 100.000%\n"
          ]
        },
        {
          "data": {
            "image/png": "[encoded data removed]",
            "text/plain": [
              "<Figure size 576x576 with 1 Axes>"
            ]
          },
          "metadata": {
            "needs_background": "light"
          },
          "output_type": "display_data"
        },
        {
          "name": "stdout",
          "output_type": "stream",
          "text": [
            "Classification Report:\n",
            "----------------------\n",
            "               precision    recall  f1-score   support\n",
            "\n",
            "         0.0       1.00      1.00      1.00        35\n",
            "         1.0       1.00      1.00      1.00        13\n",
            "\n",
            "    accuracy                           1.00        48\n",
            "   macro avg       1.00      1.00      1.00        48\n",
            "weighted avg       1.00      1.00      1.00        48\n",
            "\n"
          ]
        }
      ],
      "source": [
        "paz = np.concatenate((predfrnn,predict_splitted_score(new_test, modeles_canaux2)),axis=1)\n",
        "aze, boze = neurone_modele(np.concatenate((predrnn,predictions2),axis=1),paz, epo=35)"
      ]
    },
    {
      "cell_type": "code",
      "execution_count": 160,
      "metadata": {
        "colab": {
          "base_uri": "https://localhost:8080/",
          "height": 239
        },
        "id": "DtkYubha2JWr",
        "outputId": "c31c4381-4c53-4d44-e9cb-d70e6fc8413e"
      },
      "outputs": [
        {
          "name": "stdout",
          "output_type": "stream",
          "text": [
            "Number of 1  :    189\n",
            "Max précision : 0.9908333333333333\n",
            "0       1\n",
            "1       0\n",
            "2       0\n",
            "3       0\n",
            "4       0\n",
            "       ..\n",
            "1195    0\n",
            "1196    0\n",
            "1197    0\n",
            "1198    0\n",
            "1199    0\n",
            "Length: 1200, dtype: int64\n",
            "Le programme a mis 0.12267374992370605 s à s'éxecuter\n"
          ]
        }
      ],
      "source": [
        "\n",
        "t1 = time.time()\n",
        "#total_test = np.concatenate((donnees_test,extract_features(donnees_test)), axis=2)\n",
        "#feature_extract = np.concatenate((predict_splitted_score(donnees_test, modeles_canaux), predict_splitted_score(donnees_test, modeles_canaux2)[:,:2]), axis=1)\n",
        "#feature_extract = predict_splitted_score(np.concatenate((donnees_test, np.std(donnees_test, axis=1).reshape(1200,1,768)), axis=1), modeles_canaux)\n",
        "\n",
        "#feature_extract = predict_splitted_score(donnees_test, modeles_canaux)\n",
        "predou = []\n",
        "#for mod in m:\n",
        "#  i=0\n",
        "#  predou.append(mod.predict(feature_extract))\n",
        "\n",
        "#predou = np.array(predou).reshape(1200,6)\n",
        "\n",
        "\n",
        "#abou = somo(predou)\n",
        "bas = predfrnn\n",
        "abou = assemblage_modele(\n",
        "    assemblage_modele( \n",
        "        m[1].predict(bas).astype(int),m[3].predict(bas).astype(int)),\n",
        "        assemblage_modele( m[1].predict(bas).astype(int) ,assemblage_modele( boze.astype(int), m[1].predict(bas).astype(int))))\n",
        "sortie = pd.Series(abou)\n",
        "#sortie = pd.Series(modele_principal.predict(donnees_test.reshape(1200,768*5)))\n",
        "nombre_un = len(sortie[sortie==1])\n",
        "print(f\"Number of 1  :    {nombre_un}\")\n",
        "print(f\"Max précision : {(1000+nombre_un)/1200}\")\n",
        "print(sortie)\n",
        "sortie.to_csv(\"rendu.csv\",header=[\"Id,Outcome\"])\n",
        "t2=time.time()\n",
        "print(f\"Le programme a mis {t2-t1} s à s'éxecuter\")\n",
        "\n",
        "with open('rendu.csv', 'r') as file:\n",
        "    # read a list of lines into data\n",
        "    data = file.readlines()\n",
        "\n",
        "# now change the 2nd line, note that you have to add a newline\n",
        "data[0] = 'Id,Outcome\\n'\n",
        "\n",
        "# and write everything back\n",
        "with open('rendu.csv', 'w') as file:\n",
        "    file.writelines( data )"
      ]
    },
    {
      "cell_type": "code",
      "execution_count": null,
      "metadata": {
        "colab": {
          "background_save": true,
          "base_uri": "https://localhost:8080/"
        },
        "id": "gFzmbs1HPi1r",
        "outputId": "de85873d-fe87-4c98-8322-f662bc5959ed"
      },
      "outputs": [
        {
          "name": "stdout",
          "output_type": "stream",
          "text": [
            "Canal 2 modèle RandomForestClassifier()\n",
            "infos :  {'n_estimators': 100} 0.9505555555555555\n",
            "Performance sur le canal 2 : 0.9575\n",
            "[[991  19]\n",
            " [ 32 158]]\n",
            "              precision    recall  f1-score   support\n",
            "\n",
            "         0.0       0.97      0.98      0.97      1010\n",
            "         1.0       0.89      0.83      0.86       190\n",
            "\n",
            "    accuracy                           0.96      1200\n",
            "   macro avg       0.93      0.91      0.92      1200\n",
            "weighted avg       0.96      0.96      0.96      1200\n",
            "\n"
          ]
        }
      ],
      "source": [
        "#Tests de performances sur canal\n",
        "def canal(X, Y, i, modele, params):\n",
        "    print(f\"Canal {i+1} modèle {modele}\")\n",
        "    X_train, X_test, Y_train, Y_test = train_test_split(X[:,i], Y, test_size=0.25)\n",
        "    \n",
        "    grid = GridSearchCV(modele, param_grid=params, cv=8)\n",
        "    grid.fit(X_train,Y_train)\n",
        "    modele = (grid.best_estimator_)\n",
        "    print(\"infos : \",grid.best_params_, grid.best_score_)\n",
        "    print(f\"Performance sur le canal {i+1} : {modele.score(X_test, Y_test)}\")\n",
        "    ypred = modele.predict(X_test)\n",
        "    print(confusion_matrix(Y_test, ypred))\n",
        "    print(classification_report(Y_test, ypred))\n",
        "\n",
        "    #N, train_score, val_score = learning_curve(modele, X_train, Y_train,\n",
        "    #                                          cv=4, scoring='f1',\n",
        "    #                                           train_sizes=np.linspace(0.1, 1, 10))\n",
        "    \n",
        "    \n",
        "    #plt.figure(figsize=(12, 8))\n",
        "    #plt.plot(N, train_score.mean(axis=1), label='train score')\n",
        "    #plt.plot(N, val_score.mean(axis=1), label='validation score')\n",
        "    #plt.legend()\n",
        "    return 1\n",
        "\n",
        "\n",
        "param_svc={}\n",
        "param_mlp={}\n",
        "listeModeles = [#(SVC(), {'C':[0.5,1.0,10.0]}),\n",
        "                (RandomForestClassifier(), {'n_estimators':[100,150]})\n",
        "                ]\n",
        "\n",
        "\n",
        "for i in listeModeles:\n",
        "    canal(train_ds, train_labels, 1, i[0],i[1])\n"
      ]
    },
    {
      "cell_type": "code",
      "execution_count": null,
      "metadata": {
        "colab": {
          "base_uri": "https://localhost:8080/"
        },
        "id": "OW032UeL6BMp",
        "outputId": "8cdc953b-e257-4fee-9954-9eefcdafd825"
      },
      "outputs": [
        {
          "name": "stdout",
          "output_type": "stream",
          "text": [
            "              precision    recall  f1-score   support\n",
            "\n",
            "         0.0       1.00      1.00      1.00      2000\n",
            "         1.0       0.98      0.98      0.98       400\n",
            "\n",
            "    accuracy                           0.99      2400\n",
            "   macro avg       0.99      0.99      0.99      2400\n",
            "weighted avg       0.99      0.99      0.99      2400\n",
            "\n"
          ]
        }
      ],
      "source": [
        "a = MLPClassifier().fit(train_ds[:,1], train_labels).predict(train_ds[:,1])\n",
        "print(classification_report(train_labels,a))"
      ]
    },
    {
      "cell_type": "code",
      "execution_count": null,
      "metadata": {
        "id": "VjtlGkU-6Btk"
      },
      "outputs": [],
      "source": []
    },
    {
      "cell_type": "code",
      "execution_count": null,
      "metadata": {
        "id": "SDXBUzyq5-SD"
      },
      "outputs": [],
      "source": []
    }
  ],
  "metadata": {
    "colab": {
      "collapsed_sections": [],
      "name": "PIPELINE_L.ipynb",
      "provenance": []
    },
    "interpreter": {
      "hash": "2647ea34e536f865ab67ff9ddee7fd78773d956cec0cab53c79b32cd10da5d83"
    },
    "kernelspec": {
      "display_name": "Python 3.9.0 64-bit",
      "language": "python",
      "name": "python3"
    },
    "language_info": {
      "codemirror_mode": {
        "name": "ipython",
        "version": 3
      },
      "file_extension": ".py",
      "mimetype": "text/x-python",
      "name": "python",
      "nbconvert_exporter": "python",
      "pygments_lexer": "ipython3",
      "version": "3.9.0"
    }
  },
  "nbformat": 4,
  "nbformat_minor": 0
}
